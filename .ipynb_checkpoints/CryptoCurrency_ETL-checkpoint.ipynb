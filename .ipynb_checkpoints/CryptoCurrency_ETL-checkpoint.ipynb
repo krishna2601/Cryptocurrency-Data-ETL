{
 "cells": [
  {
   "cell_type": "code",
   "execution_count": 54,
   "id": "engaging-excellence",
   "metadata": {},
   "outputs": [],
   "source": [
    "import csv\n",
    "import os\n",
    "from pathlib import Path\n",
    "import glob\n",
    "import datetime"
   ]
  },
  {
   "cell_type": "markdown",
   "id": "4395e9fb",
   "metadata": {},
   "source": [
    "### Extract data"
   ]
  },
  {
   "cell_type": "code",
   "execution_count": 11,
   "id": "2e1ddd47",
   "metadata": {},
   "outputs": [
    {
     "name": "stdout",
     "output_type": "stream",
     "text": [
      "cryptocurrencypricehistory.zip: Skipping, found more recently modified local copy (use --force to force download)\r\n"
     ]
    }
   ],
   "source": [
    "!kaggle datasets download -d sudalairajkumar/cryptocurrencypricehistory"
   ]
  },
  {
   "cell_type": "code",
   "execution_count": 21,
   "id": "5da8a541",
   "metadata": {},
   "outputs": [],
   "source": [
    "#combine all files of different crypto markets into one \n",
    "kaggle_download_datapath = os.getenv('kaggle_download_datapath')\n",
    "kaggle_dateset_path = Path(kaggle_download_datapath+'/cryptocurrencypricehistory')\n",
    "filepaths = [f for f in kaggle_dateset_path.glob(\"*.csv\") ]\n",
    "df = pd.concat(map(pd.read_csv, filepaths))"
   ]
  },
  {
   "cell_type": "code",
   "execution_count": 22,
   "id": "12505449",
   "metadata": {},
   "outputs": [
    {
     "data": {
      "text/html": [
       "<div>\n",
       "<style scoped>\n",
       "    .dataframe tbody tr th:only-of-type {\n",
       "        vertical-align: middle;\n",
       "    }\n",
       "\n",
       "    .dataframe tbody tr th {\n",
       "        vertical-align: top;\n",
       "    }\n",
       "\n",
       "    .dataframe thead th {\n",
       "        text-align: right;\n",
       "    }\n",
       "</style>\n",
       "<table border=\"1\" class=\"dataframe\">\n",
       "  <thead>\n",
       "    <tr style=\"text-align: right;\">\n",
       "      <th></th>\n",
       "      <th>SNo</th>\n",
       "      <th>Name</th>\n",
       "      <th>Symbol</th>\n",
       "      <th>Date</th>\n",
       "      <th>High</th>\n",
       "      <th>Low</th>\n",
       "      <th>Open</th>\n",
       "      <th>Close</th>\n",
       "      <th>Volume</th>\n",
       "      <th>Marketcap</th>\n",
       "    </tr>\n",
       "  </thead>\n",
       "  <tbody>\n",
       "    <tr>\n",
       "      <th>0</th>\n",
       "      <td>1</td>\n",
       "      <td>NEM</td>\n",
       "      <td>XEM</td>\n",
       "      <td>2015-04-02 23:59:59</td>\n",
       "      <td>0.000323</td>\n",
       "      <td>0.000227</td>\n",
       "      <td>0.000242</td>\n",
       "      <td>0.000314</td>\n",
       "      <td>2.854940e+04</td>\n",
       "      <td>2.823534e+06</td>\n",
       "    </tr>\n",
       "    <tr>\n",
       "      <th>1</th>\n",
       "      <td>2</td>\n",
       "      <td>NEM</td>\n",
       "      <td>XEM</td>\n",
       "      <td>2015-04-03 23:59:59</td>\n",
       "      <td>0.000330</td>\n",
       "      <td>0.000291</td>\n",
       "      <td>0.000309</td>\n",
       "      <td>0.000310</td>\n",
       "      <td>2.067790e+04</td>\n",
       "      <td>2.792457e+06</td>\n",
       "    </tr>\n",
       "    <tr>\n",
       "      <th>2</th>\n",
       "      <td>3</td>\n",
       "      <td>NEM</td>\n",
       "      <td>XEM</td>\n",
       "      <td>2015-04-04 23:59:59</td>\n",
       "      <td>0.000318</td>\n",
       "      <td>0.000251</td>\n",
       "      <td>0.000310</td>\n",
       "      <td>0.000277</td>\n",
       "      <td>2.355020e+04</td>\n",
       "      <td>2.488770e+06</td>\n",
       "    </tr>\n",
       "    <tr>\n",
       "      <th>3</th>\n",
       "      <td>4</td>\n",
       "      <td>NEM</td>\n",
       "      <td>XEM</td>\n",
       "      <td>2015-04-05 23:59:59</td>\n",
       "      <td>0.000283</td>\n",
       "      <td>0.000218</td>\n",
       "      <td>0.000272</td>\n",
       "      <td>0.000232</td>\n",
       "      <td>2.680020e+04</td>\n",
       "      <td>2.087388e+06</td>\n",
       "    </tr>\n",
       "    <tr>\n",
       "      <th>4</th>\n",
       "      <td>5</td>\n",
       "      <td>NEM</td>\n",
       "      <td>XEM</td>\n",
       "      <td>2015-04-06 23:59:59</td>\n",
       "      <td>0.000299</td>\n",
       "      <td>0.000229</td>\n",
       "      <td>0.000232</td>\n",
       "      <td>0.000289</td>\n",
       "      <td>2.251150e+04</td>\n",
       "      <td>2.598354e+06</td>\n",
       "    </tr>\n",
       "    <tr>\n",
       "      <th>...</th>\n",
       "      <td>...</td>\n",
       "      <td>...</td>\n",
       "      <td>...</td>\n",
       "      <td>...</td>\n",
       "      <td>...</td>\n",
       "      <td>...</td>\n",
       "      <td>...</td>\n",
       "      <td>...</td>\n",
       "      <td>...</td>\n",
       "      <td>...</td>\n",
       "    </tr>\n",
       "    <tr>\n",
       "      <th>883</th>\n",
       "      <td>884</td>\n",
       "      <td>Wrapped Bitcoin</td>\n",
       "      <td>WBTC</td>\n",
       "      <td>2021-07-02 23:59:59</td>\n",
       "      <td>33841.008754</td>\n",
       "      <td>32761.826975</td>\n",
       "      <td>33529.259522</td>\n",
       "      <td>33824.263339</td>\n",
       "      <td>1.609147e+08</td>\n",
       "      <td>6.625345e+09</td>\n",
       "    </tr>\n",
       "    <tr>\n",
       "      <th>884</th>\n",
       "      <td>885</td>\n",
       "      <td>Wrapped Bitcoin</td>\n",
       "      <td>WBTC</td>\n",
       "      <td>2021-07-03 23:59:59</td>\n",
       "      <td>34871.130346</td>\n",
       "      <td>33381.245301</td>\n",
       "      <td>33806.037094</td>\n",
       "      <td>34676.985915</td>\n",
       "      <td>1.659959e+08</td>\n",
       "      <td>6.792373e+09</td>\n",
       "    </tr>\n",
       "    <tr>\n",
       "      <th>885</th>\n",
       "      <td>886</td>\n",
       "      <td>Wrapped Bitcoin</td>\n",
       "      <td>WBTC</td>\n",
       "      <td>2021-07-04 23:59:59</td>\n",
       "      <td>35914.361323</td>\n",
       "      <td>34382.512697</td>\n",
       "      <td>34672.651028</td>\n",
       "      <td>35289.762931</td>\n",
       "      <td>1.583060e+08</td>\n",
       "      <td>6.912401e+09</td>\n",
       "    </tr>\n",
       "    <tr>\n",
       "      <th>886</th>\n",
       "      <td>887</td>\n",
       "      <td>Wrapped Bitcoin</td>\n",
       "      <td>WBTC</td>\n",
       "      <td>2021-07-05 23:59:59</td>\n",
       "      <td>35294.411111</td>\n",
       "      <td>33288.379267</td>\n",
       "      <td>35294.411111</td>\n",
       "      <td>33806.661764</td>\n",
       "      <td>1.711673e+08</td>\n",
       "      <td>6.621898e+09</td>\n",
       "    </tr>\n",
       "    <tr>\n",
       "      <th>887</th>\n",
       "      <td>888</td>\n",
       "      <td>Wrapped Bitcoin</td>\n",
       "      <td>WBTC</td>\n",
       "      <td>2021-07-06 23:59:59</td>\n",
       "      <td>35004.772491</td>\n",
       "      <td>33700.560335</td>\n",
       "      <td>33772.552729</td>\n",
       "      <td>34189.372826</td>\n",
       "      <td>2.035448e+08</td>\n",
       "      <td>6.713947e+09</td>\n",
       "    </tr>\n",
       "  </tbody>\n",
       "</table>\n",
       "<p>37082 rows × 10 columns</p>\n",
       "</div>"
      ],
      "text/plain": [
       "     SNo             Name Symbol                 Date          High  \\\n",
       "0      1              NEM    XEM  2015-04-02 23:59:59      0.000323   \n",
       "1      2              NEM    XEM  2015-04-03 23:59:59      0.000330   \n",
       "2      3              NEM    XEM  2015-04-04 23:59:59      0.000318   \n",
       "3      4              NEM    XEM  2015-04-05 23:59:59      0.000283   \n",
       "4      5              NEM    XEM  2015-04-06 23:59:59      0.000299   \n",
       "..   ...              ...    ...                  ...           ...   \n",
       "883  884  Wrapped Bitcoin   WBTC  2021-07-02 23:59:59  33841.008754   \n",
       "884  885  Wrapped Bitcoin   WBTC  2021-07-03 23:59:59  34871.130346   \n",
       "885  886  Wrapped Bitcoin   WBTC  2021-07-04 23:59:59  35914.361323   \n",
       "886  887  Wrapped Bitcoin   WBTC  2021-07-05 23:59:59  35294.411111   \n",
       "887  888  Wrapped Bitcoin   WBTC  2021-07-06 23:59:59  35004.772491   \n",
       "\n",
       "              Low          Open         Close        Volume     Marketcap  \n",
       "0        0.000227      0.000242      0.000314  2.854940e+04  2.823534e+06  \n",
       "1        0.000291      0.000309      0.000310  2.067790e+04  2.792457e+06  \n",
       "2        0.000251      0.000310      0.000277  2.355020e+04  2.488770e+06  \n",
       "3        0.000218      0.000272      0.000232  2.680020e+04  2.087388e+06  \n",
       "4        0.000229      0.000232      0.000289  2.251150e+04  2.598354e+06  \n",
       "..            ...           ...           ...           ...           ...  \n",
       "883  32761.826975  33529.259522  33824.263339  1.609147e+08  6.625345e+09  \n",
       "884  33381.245301  33806.037094  34676.985915  1.659959e+08  6.792373e+09  \n",
       "885  34382.512697  34672.651028  35289.762931  1.583060e+08  6.912401e+09  \n",
       "886  33288.379267  35294.411111  33806.661764  1.711673e+08  6.621898e+09  \n",
       "887  33700.560335  33772.552729  34189.372826  2.035448e+08  6.713947e+09  \n",
       "\n",
       "[37082 rows x 10 columns]"
      ]
     },
     "execution_count": 22,
     "metadata": {},
     "output_type": "execute_result"
    }
   ],
   "source": [
    "df"
   ]
  },
  {
   "cell_type": "code",
   "execution_count": 35,
   "id": "cbdb1cd2",
   "metadata": {},
   "outputs": [
    {
     "data": {
      "text/plain": [
       "array(['XEM', 'EOS', 'XMR', 'DOT', 'USDC', 'UNI', 'BNB', 'MIOTA', 'AAVE',\n",
       "       'SOL', 'BTC', 'ADA', 'USDT', 'ATOM', 'LINK', 'LTC', 'XRP', 'ETH',\n",
       "       'TRX', 'XLM', 'CRO', 'DOGE', 'WBTC'], dtype=object)"
      ]
     },
     "execution_count": 35,
     "metadata": {},
     "output_type": "execute_result"
    }
   ],
   "source": [
    "df.Symbol.unique()"
   ]
  },
  {
   "cell_type": "code",
   "execution_count": 33,
   "id": "d6051bce",
   "metadata": {},
   "outputs": [],
   "source": [
    "##export data frame as csv\n",
    "combined_csv_datapath = kaggle_download_datapath+'/crypto_combined_dataset.csv'\n",
    "df.to_csv(combined_csv_datapath)"
   ]
  },
  {
   "cell_type": "code",
   "execution_count": 70,
   "id": "c9a9eba5",
   "metadata": {},
   "outputs": [
    {
     "data": {
      "text/plain": [
       "0"
      ]
     },
     "execution_count": 70,
     "metadata": {},
     "output_type": "execute_result"
    }
   ],
   "source": [
    "##count number of rows wih missing data\n",
    "df.isnull().values.ravel().sum()"
   ]
  },
  {
   "cell_type": "code",
   "execution_count": 66,
   "id": "9a2a1bda",
   "metadata": {},
   "outputs": [
    {
     "name": "stdout",
     "output_type": "stream",
     "text": [
      "<_csv.reader object at 0x1140d5e70>\n"
     ]
    }
   ],
   "source": [
    "##read combined_csv file \n",
    "crpyto_data_file = open(combined_csv_datapath)\n",
    "csv_reader = csv.reader(crpyto_data_file)\n",
    "print(csv_reader)"
   ]
  },
  {
   "cell_type": "code",
   "execution_count": 67,
   "id": "afaae4bf",
   "metadata": {},
   "outputs": [
    {
     "data": {
      "text/plain": [
       "SNo            int64\n",
       "Name          object\n",
       "Symbol        object\n",
       "Date          object\n",
       "High         float64\n",
       "Low          float64\n",
       "Open         float64\n",
       "Close        float64\n",
       "Volume       float64\n",
       "Marketcap    float64\n",
       "dtype: object"
      ]
     },
     "execution_count": 67,
     "metadata": {},
     "output_type": "execute_result"
    }
   ],
   "source": [
    "df.dtypes"
   ]
  },
  {
   "cell_type": "markdown",
   "id": "5cad4d79",
   "metadata": {},
   "source": [
    "### Transform Data"
   ]
  },
  {
   "cell_type": "code",
   "execution_count": 68,
   "id": "1a033d83",
   "metadata": {},
   "outputs": [
    {
     "name": "stdout",
     "output_type": "stream",
     "text": [
      "37082\n",
      "[['0', '1', 'NEM', 'XEM', datetime.datetime(2015, 4, 2, 23, 59, 59), '0.0003230780130252', '0.0002272779966006', '0.0002421469980617', '0.000313725991873', '28549.400390625', '2823533.99969'], ['1', '2', 'NEM', 'XEM', datetime.datetime(2015, 4, 3, 23, 59, 59), '0.0003296759969089', '0.0002907729940488', '0.0003087499935645', '0.0003102729970123', '20677.900390625', '2792456.99969']]\n"
     ]
    }
   ],
   "source": [
    "##we need to convert datatype of Date from object to datetime64\n",
    "crypto_data = []\n",
    "\n",
    "next(csv_reader,None) #to skip row 1 i.e. header row\n",
    "\n",
    "for row in csv_reader:\n",
    "    row[4] = datetime.datetime.strptime(row[4], '%Y-%m-%d %H:%M:%S')\n",
    "    crypto_data.append(row)\n",
    "    \n",
    "\n",
    "print(len(crypto_data))\n",
    "print(crypto_data[:2])    \n",
    "    \n",
    "    "
   ]
  },
  {
   "cell_type": "markdown",
   "id": "19d1c709",
   "metadata": {},
   "source": [
    "### Loading the data into MySQL"
   ]
  },
  {
   "cell_type": "code",
   "execution_count": 78,
   "id": "cb9e877a",
   "metadata": {},
   "outputs": [
    {
     "name": "stdout",
     "output_type": "stream",
     "text": [
      "Requirement already satisfied: mysql in /Library/Frameworks/Python.framework/Versions/3.10/lib/python3.10/site-packages (0.0.3)\r\n",
      "Requirement already satisfied: mysqlclient in /Library/Frameworks/Python.framework/Versions/3.10/lib/python3.10/site-packages (from mysql) (2.0.3)\r\n"
     ]
    }
   ],
   "source": [
    "!pip3 install mysql"
   ]
  },
  {
   "cell_type": "code",
   "execution_count": 79,
   "id": "2f6017cd",
   "metadata": {},
   "outputs": [
    {
     "name": "stdout",
     "output_type": "stream",
     "text": [
      "/Library/Frameworks/Python.framework/Versions/3.10/bin/python3\r\n"
     ]
    }
   ],
   "source": [
    "!which python3"
   ]
  },
  {
   "cell_type": "code",
   "execution_count": 81,
   "id": "40f2396b",
   "metadata": {},
   "outputs": [
    {
     "ename": "ModuleNotFoundError",
     "evalue": "No module named 'mysql'",
     "output_type": "error",
     "traceback": [
      "\u001b[0;31m---------------------------------------------------------------------------\u001b[0m",
      "\u001b[0;31mModuleNotFoundError\u001b[0m                       Traceback (most recent call last)",
      "\u001b[0;32m/var/folders/67/j78f09k56pb7r_v7yyz136vh0000gn/T/ipykernel_60841/185000171.py\u001b[0m in \u001b[0;36m<module>\u001b[0;34m\u001b[0m\n\u001b[0;32m----> 1\u001b[0;31m \u001b[0;32mimport\u001b[0m \u001b[0mmysql\u001b[0m\u001b[0;34m\u001b[0m\u001b[0;34m\u001b[0m\u001b[0m\n\u001b[0m\u001b[1;32m      2\u001b[0m \u001b[0;34m\u001b[0m\u001b[0m\n",
      "\u001b[0;31mModuleNotFoundError\u001b[0m: No module named 'mysql'"
     ]
    }
   ],
   "source": [
    "import mysql\n",
    "\n"
   ]
  },
  {
   "cell_type": "code",
   "execution_count": 76,
   "id": "627ce4fe",
   "metadata": {},
   "outputs": [
    {
     "ename": "NameError",
     "evalue": "name 'connection' is not defined",
     "output_type": "error",
     "traceback": [
      "\u001b[0;31m---------------------------------------------------------------------------\u001b[0m",
      "\u001b[0;31mNameError\u001b[0m                                 Traceback (most recent call last)",
      "\u001b[0;32m/var/folders/67/j78f09k56pb7r_v7yyz136vh0000gn/T/ipykernel_60841/3367735258.py\u001b[0m in \u001b[0;36m<module>\u001b[0;34m\u001b[0m\n\u001b[1;32m      1\u001b[0m \u001b[0muser\u001b[0m \u001b[0;34m=\u001b[0m \u001b[0mos\u001b[0m\u001b[0;34m.\u001b[0m\u001b[0mgetenv\u001b[0m\u001b[0;34m(\u001b[0m\u001b[0;34m'mysql_usrname'\u001b[0m\u001b[0;34m)\u001b[0m\u001b[0;34m\u001b[0m\u001b[0;34m\u001b[0m\u001b[0m\n\u001b[1;32m      2\u001b[0m \u001b[0;34m\u001b[0m\u001b[0m\n\u001b[0;32m----> 3\u001b[0;31m cnx = connection.MySQLConnection(user='scott', password='password',\n\u001b[0m\u001b[1;32m      4\u001b[0m                                  \u001b[0mhost\u001b[0m\u001b[0;34m=\u001b[0m\u001b[0;34m'127.0.0.1'\u001b[0m\u001b[0;34m,\u001b[0m\u001b[0;34m\u001b[0m\u001b[0;34m\u001b[0m\u001b[0m\n\u001b[1;32m      5\u001b[0m                                  database='employees')\n",
      "\u001b[0;31mNameError\u001b[0m: name 'connection' is not defined"
     ]
    }
   ],
   "source": [
    "user = os.getenv('mysql_usrname')\n",
    "\n",
    "cnx = connection.MySQLConnection(user='scott', password='password',\n",
    "                                 host='127.0.0.1',\n",
    "                                 database='employees')\n",
    "cnx.close()"
   ]
  },
  {
   "cell_type": "code",
   "execution_count": 82,
   "id": "ea006f2f",
   "metadata": {},
   "outputs": [
    {
     "name": "stdout",
     "output_type": "stream",
     "text": [
      "None\n"
     ]
    }
   ],
   "source": [
    "(print(os.getenv('mysql_usrname')))"
   ]
  },
  {
   "cell_type": "code",
   "execution_count": null,
   "id": "7d26933e",
   "metadata": {},
   "outputs": [],
   "source": []
  }
 ],
 "metadata": {
  "kernelspec": {
   "display_name": "Python 3 (ipykernel)",
   "language": "python",
   "name": "python3"
  },
  "language_info": {
   "codemirror_mode": {
    "name": "ipython",
    "version": 3
   },
   "file_extension": ".py",
   "mimetype": "text/x-python",
   "name": "python",
   "nbconvert_exporter": "python",
   "pygments_lexer": "ipython3",
   "version": "3.10.0"
  }
 },
 "nbformat": 4,
 "nbformat_minor": 5
}
